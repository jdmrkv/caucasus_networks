{
  "cells": [
    {
      "cell_type": "markdown",
      "source": [
        "Устанавливаем pyvis."
      ],
      "metadata": {
        "id": "8DpQ7pSL9ktq"
      }
    },
    {
      "cell_type": "code",
      "source": [
        "pip install pyvis"
      ],
      "metadata": {
        "id": "IV2UpVzi9Pog"
      },
      "execution_count": null,
      "outputs": []
    },
    {
      "cell_type": "code",
      "execution_count": null,
      "metadata": {
        "id": "3nPpOLYY7msw"
      },
      "outputs": [],
      "source": [
        "from pyvis import network as net\n",
        "import networkx as nx\n",
        "import pandas as pd"
      ]
    },
    {
      "cell_type": "markdown",
      "source": [
        "Читаем файлы с узлами и ребрами."
      ],
      "metadata": {
        "id": "08MuWHda86sB"
      }
    },
    {
      "cell_type": "code",
      "execution_count": null,
      "metadata": {
        "id": "Fd2LRb647ms1"
      },
      "outputs": [],
      "source": [
        "all_edges = pd.read_csv(\"./Downloads/merged_all_edges.csv\", sep=';')\n",
        "all_nodes = pd.read_csv(\"./Downloads/merged_all_nodes.csv\", sep=';')"
      ]
    },
    {
      "cell_type": "markdown",
      "source": [
        "Считаем количество ребер между узлами и сохраняем в all_edge_weight для того, чтобы потом назначить ребрам веса."
      ],
      "metadata": {
        "id": "0w6TsXVp92kq"
      }
    },
    {
      "cell_type": "code",
      "execution_count": null,
      "metadata": {
        "id": "mfzKH7Nx7ms5"
      },
      "outputs": [],
      "source": [
        "all_edge_weight = {}\n",
        "for i, node in enumerate(all_edges['Source']):\n",
        "    edge_name = (str(node), str(all_edges['Target'][i]))\n",
        "    if edge_name in all_edge_weight:\n",
        "        all_edge_weight[edge_name] += 1\n",
        "    else:\n",
        "        all_edge_weight[edge_name] = 1"
      ]
    },
    {
      "cell_type": "markdown",
      "source": [
        "Активируем граф."
      ],
      "metadata": {
        "id": "NDFSx1zR-Png"
      }
    },
    {
      "cell_type": "code",
      "execution_count": null,
      "metadata": {
        "id": "5HLDn7Or7ms7"
      },
      "outputs": [],
      "source": [
        "all_net = nx.Graph()"
      ]
    },
    {
      "cell_type": "markdown",
      "source": [
        "Добавляем информацию о ребрах и узлах в граф."
      ],
      "metadata": {
        "id": "VPIHWUgI-SeO"
      }
    },
    {
      "cell_type": "code",
      "execution_count": null,
      "metadata": {
        "id": "R8YAeWzb7ms9"
      },
      "outputs": [],
      "source": [
        "for i, node in enumerate(all_nodes['ID']):\n",
        "    all_net.add_node(str(node), label=str(all_nodes['Label'][i]), title=all_nodes['Label'][i], font='40px')\n",
        "\n",
        "for i, edge in enumerate(all_edges['Source']):\n",
        "    all_net.add_edge(str(edge), str(all_edges['Target'][i]))"
      ]
    },
    {
      "cell_type": "markdown",
      "source": [
        "Считаем степень, чтобы задать размер узлов."
      ],
      "metadata": {
        "id": "aNWIAdJT-mXJ"
      }
    },
    {
      "cell_type": "code",
      "execution_count": null,
      "metadata": {
        "id": "hvfdZwWd7ms-"
      },
      "outputs": [],
      "source": [
        "all_nodes_degree = dict(all_net.degree)"
      ]
    },
    {
      "cell_type": "markdown",
      "source": [
        "Увеличиваем степени в три раза для более наглядного отображения."
      ],
      "metadata": {
        "id": "ug-yLFJV-s31"
      }
    },
    {
      "cell_type": "code",
      "execution_count": null,
      "metadata": {
        "id": "LCaNA-q37mtB"
      },
      "outputs": [],
      "source": [
        "all_nodes_degree.update((x, 3*y) for x, y in all_nodes_degree.items())"
      ]
    },
    {
      "cell_type": "markdown",
      "source": [
        "Добавляем в граф информацию о размере узлов и толщине ребер."
      ],
      "metadata": {
        "id": "Wn_f-h_N_kU3"
      }
    },
    {
      "cell_type": "code",
      "execution_count": null,
      "metadata": {
        "id": "wVQnzuFz7mtC"
      },
      "outputs": [],
      "source": [
        "nx.set_node_attributes(all_net,all_nodes_degree,'size')\n",
        "nx.set_edge_attributes(all_net,all_edge_weight,'value')"
      ]
    },
    {
      "cell_type": "markdown",
      "source": [
        "На основе всех данных создаём элемент net.Network() для визуализации."
      ],
      "metadata": {
        "id": "1TjCamPl_4JW"
      }
    },
    {
      "cell_type": "code",
      "execution_count": null,
      "metadata": {
        "id": "tnRQck5P7mtF"
      },
      "outputs": [],
      "source": [
        "all_net_graph = net.Network(notebook=True, cdn_resources='remote', height='800px', width=\"100%\", select_menu=True, filter_menu=True)\n",
        "all_net_graph.from_nx(all_net)"
      ]
    },
    {
      "cell_type": "code",
      "execution_count": null,
      "metadata": {
        "id": "-h0Tp6Ei7mtJ",
        "outputId": "d113ea9c-5efb-4e1a-cb00-53ea69d52695"
      },
      "outputs": [
        {
          "name": "stdout",
          "output_type": "stream",
          "text": [
            "all_net.html\n"
          ]
        },
        {
          "data": {
            "text/html": [
              "\n",
              "        <iframe\n",
              "            width=\"100%\"\n",
              "            height=\"800px\"\n",
              "            src=\"all_net.html\"\n",
              "            frameborder=\"0\"\n",
              "            allowfullscreen\n",
              "        ></iframe>\n",
              "        "
            ],
            "text/plain": [
              "<IPython.lib.display.IFrame at 0x10e5bc70>"
            ]
          },
          "execution_count": 11,
          "metadata": {},
          "output_type": "execute_result"
        }
      ],
      "source": [
        "all_net_graph.show(\"all_net.html\")"
      ]
    },
    {
      "cell_type": "code",
      "execution_count": null,
      "metadata": {
        "id": "B0P2zTVG7mtM"
      },
      "outputs": [],
      "source": []
    }
  ],
  "metadata": {
    "kernelspec": {
      "display_name": "Python 3",
      "language": "python",
      "name": "python3"
    },
    "language_info": {
      "codemirror_mode": {
        "name": "ipython",
        "version": 3
      },
      "file_extension": ".py",
      "mimetype": "text/x-python",
      "name": "python",
      "nbconvert_exporter": "python",
      "pygments_lexer": "ipython3",
      "version": "3.7.8"
    },
    "colab": {
      "provenance": []
    }
  },
  "nbformat": 4,
  "nbformat_minor": 0
}