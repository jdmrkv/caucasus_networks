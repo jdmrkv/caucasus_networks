{
  "nbformat": 4,
  "nbformat_minor": 0,
  "metadata": {
    "colab": {
      "provenance": []
    },
    "kernelspec": {
      "name": "python3",
      "display_name": "Python 3"
    },
    "language_info": {
      "name": "python"
    }
  },
  "cells": [
    {
      "cell_type": "code",
      "execution_count": null,
      "metadata": {
        "id": "ltgsXHZm5r-9"
      },
      "outputs": [],
      "source": [
        "import re"
      ]
    },
    {
      "cell_type": "code",
      "source": [
        "tsez_info = []\n",
        "for_check = []"
      ],
      "metadata": {
        "id": "V9Vie1gb52LG"
      },
      "execution_count": null,
      "outputs": []
    },
    {
      "cell_type": "code",
      "source": [
        "# ищет имя и название имя ищет до первой точки с пробелом за ней,\n",
        "# название все что после этого до последовательности \"точка пробел тире\"\n",
        "ref_name_title = '(^.+?\\.) (.+?)\\. –'\n",
        "# дата отдельно, чтобы не падал поиск в тех строках где все хорошо но нет года\n",
        "ref_date = '[^–\\d](\\d{4})[^–\\d].*?$'"
      ],
      "metadata": {
        "id": "JHX3m3wW54eq"
      },
      "execution_count": null,
      "outputs": []
    },
    {
      "cell_type": "code",
      "source": [
        "with open('tsez.txt', 'r', encoding='utf-8') as f:\n",
        "  for line in f.readlines(): #читаем по строкам\n",
        "    name_title =  re.search(ref_name_title, line) #ищем в строке имя и название\n",
        "    if name_title: #если они есть записываем их в переменные\n",
        "      name = name_title.group(1)\n",
        "      title = name_title.group(2)\n",
        "    else: # если нет то записываем индекс строки в список для проверки\n",
        "      name_title = re.search('(^.+?\\.) (.+?)//', line) # и теперь ищем название до двойного слеша и записываем данные\n",
        "      name = name_title.group(1)\n",
        "      title = name_title.group(2)\n",
        "    if re.search(ref_date, line): #проверка, есть ли число похожее на год\n",
        "      date = re.search(ref_date, line).group(1)\n",
        "    else:\n",
        "      date = '' # если нет то пустая строка\n",
        "    tsez_info.append((name, title, date)) # записываем все три переменные в список с данными\n"
      ],
      "metadata": {
        "id": "tELDWrZL6VnY"
      },
      "execution_count": null,
      "outputs": []
    },
    {
      "cell_type": "code",
      "source": [
        "import pandas as pd"
      ],
      "metadata": {
        "id": "Z0d31PAB6YDL"
      },
      "execution_count": null,
      "outputs": []
    },
    {
      "cell_type": "code",
      "source": [
        "df = pd.DataFrame(tsez_info, columns=['authors', 'title', 'date'])\n",
        "df"
      ],
      "metadata": {
        "id": "txkFg_Vc6cbk"
      },
      "execution_count": null,
      "outputs": []
    }
  ]
}