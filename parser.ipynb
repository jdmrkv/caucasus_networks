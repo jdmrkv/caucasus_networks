{
  "nbformat": 4,
  "nbformat_minor": 0,
  "metadata": {
    "colab": {
      "provenance": []
    },
    "kernelspec": {
      "name": "python3",
      "display_name": "Python 3"
    },
    "language_info": {
      "name": "python"
    }
  },
  "cells": [
    {
      "cell_type": "code",
      "execution_count": null,
      "metadata": {
        "id": "ltgsXHZm5r-9"
      },
      "outputs": [],
      "source": [
        "import re"
      ]
    },
    {
      "cell_type": "code",
      "source": [
        "tsez_info = []"
      ],
      "metadata": {
        "id": "V9Vie1gb52LG"
      },
      "execution_count": 1,
      "outputs": []
    },
    {
      "cell_type": "markdown",
      "source": [
        "Первое регулярное выражение ищет имя автора и название публикации, где имя - это последовательность символов до первой точки, после которой идёт пробел, а название - это все последующие символы до последовательности *точка-пробел-тире*.\n",
        "\n",
        "Второе регулярное выражение ищет год публикации, а именно последовательность из 4-х цифр, которая расположена между любыми символами кроме дефисов и других цифр.(Дефисы встречаются в номерах страниц, а также иногда в названиях публикаций могут встретиться года, написанные через дефис)"
      ],
      "metadata": {
        "id": "W6CiK5yQjGLS"
      }
    },
    {
      "cell_type": "code",
      "source": [
        "ref_name_title = '(^.+?\\.) (.+?)\\. –'\n",
        "ref_date = '[^–\\d](\\d{4})[^–\\d].*?$'"
      ],
      "metadata": {
        "id": "JHX3m3wW54eq"
      },
      "execution_count": null,
      "outputs": []
    },
    {
      "cell_type": "markdown",
      "source": [
        "Следующий фрагмент кода открывает предварительно очищенный от заголовков файл с библиографией и читает его построчно, в каждой строке с помощью регулярных выражений ищет имя и название, и если находит последовательность *точка-тире-пробел*, то записывает данные в переменные name и title, а если нет ищет последовательность, оканчивающуюся двойным слешем, после чего в ней находит имя (до первой точки с пробелом) и название. Затем код ищет год, если находит, то записывает его в соответствующую переменную, если нет - то записывает в нее пустую строку. После чего все три переменные - имя, название, год - записываются в список с данными."
      ],
      "metadata": {
        "id": "wSvofVUQm9LD"
      }
    },
    {
      "cell_type": "code",
      "source": [
        "with open('tsez.txt', 'r', encoding='utf-8') as f:\n",
        "  for line in f.readlines():\n",
        "    name_title =  re.search(ref_name_title, line)\n",
        "    if name_title:\n",
        "      name = name_title.group(1)\n",
        "      title = name_title.group(2)\n",
        "    else:\n",
        "      name_title = re.search('(^.+?\\.) (.+?)//', line) # и теперь ищем название до двойного слеша и записываем данные\n",
        "      name = name_title.group(1)\n",
        "      title = name_title.group(2)\n",
        "    if re.search(ref_date, line): #проверка, есть ли число похожее на год\n",
        "      date = re.search(ref_date, line).group(1)\n",
        "    else:\n",
        "      date = '' # если нет то пустая строка\n",
        "    tsez_info.append((name, title, date)) # записываем все три переменные в список с данными\n"
      ],
      "metadata": {
        "id": "tELDWrZL6VnY"
      },
      "execution_count": null,
      "outputs": []
    },
    {
      "cell_type": "markdown",
      "source": [
        "Далее сохраняем результат в формате csv."
      ],
      "metadata": {
        "id": "mVJog-4xrFvj"
      }
    },
    {
      "cell_type": "code",
      "source": [
        "import pandas as pd"
      ],
      "metadata": {
        "id": "Z0d31PAB6YDL"
      },
      "execution_count": null,
      "outputs": []
    },
    {
      "cell_type": "code",
      "source": [
        "df = pd.DataFrame(tsez_info, columns=['authors', 'title', 'date'])\n",
        "df.to_csv('tzes_parsed.csv', index=False)"
      ],
      "metadata": {
        "id": "txkFg_Vc6cbk"
      },
      "execution_count": null,
      "outputs": []
    }
  ]
}